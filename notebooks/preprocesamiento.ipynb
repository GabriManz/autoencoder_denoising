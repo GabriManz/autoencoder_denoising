{
 "cells": [
  {
   "cell_type": "code",
   "execution_count": 1,
   "metadata": {},
   "outputs": [
    {
     "name": "stdout",
     "output_type": "stream",
     "text": [
      "Valor mínimo global: 0\n",
      "Valor máximo global: 107\n"
     ]
    }
   ],
   "source": [
    "import os\n",
    "import tifffile as tiff\n",
    "import numpy as np\n",
    "\n",
    "def get_global_min_max(image_dir):\n",
    "    \"\"\"\n",
    "    Calcula el valor mínimo y máximo global en un conjunto de imágenes TIFF.\n",
    "    \n",
    "    Args:\n",
    "        image_dir (str): Ruta al directorio que contiene las imágenes TIFF.\n",
    "    \n",
    "    Returns:\n",
    "        tuple: El valor mínimo y máximo global de todos los píxeles de todas las imágenes.\n",
    "    \"\"\"\n",
    "    global_min = float('inf')  # Inicializar el valor mínimo con un número muy grande\n",
    "    global_max = float('-inf')  # Inicializar el valor máximo con un número muy pequeño\n",
    "    \n",
    "    # Iterar a través de todas las imágenes en el directorio\n",
    "    for filename in os.listdir(image_dir):\n",
    "        if filename.endswith(\".tif\"):  # Filtrar solo los archivos TIFF\n",
    "            img_path = os.path.join(image_dir, filename)\n",
    "            image = tiff.imread(img_path)  # Leer la imagen\n",
    "            \n",
    "            # Obtener el valor mínimo y máximo de la imagen actual\n",
    "            local_min = np.min(image)\n",
    "            local_max = np.max(image)\n",
    "            \n",
    "            # Actualizar el valor global mínimo y máximo\n",
    "            global_min = min(global_min, local_min)\n",
    "            global_max = max(global_max, local_max)\n",
    "    \n",
    "    return global_min, global_max\n",
    "\n",
    "# Directorio con las imágenes\n",
    "image_dir = r\"C:\\Users\\IR_USER\\Desktop\\SparkSimple_cells\\Cell10\\NOISE0\"\n",
    "\n",
    "# Obtener el valor mínimo y máximo global\n",
    "min_value, max_value = get_global_min_max(image_dir)\n",
    "\n",
    "print(f\"Valor mínimo global: {min_value}\")\n",
    "print(f\"Valor máximo global: {max_value}\")"
   ]
  },
  {
   "cell_type": "code",
   "execution_count": 3,
   "metadata": {},
   "outputs": [
    {
     "name": "stdout",
     "output_type": "stream",
     "text": [
      "Forma de la imagen: (220, 900)\n",
      "La imagen no es RGB.\n"
     ]
    }
   ],
   "source": [
    "\n",
    "\n",
    "import tifffile as tiff\n",
    "\n",
    "# Cargar una imagen\n",
    "image = tiff.imread(r\"C:\\Users\\IR_USER\\Desktop\\SparkSimple_cells\\Cell2\\NOISE0\\Cabcnew0001_ch00.tif\")\n",
    "\n",
    "# Verificar la forma de la imagen\n",
    "print(\"Forma de la imagen:\", image.shape)\n",
    "\n",
    "# Verificar si la imagen es RGB (3 canales)\n",
    "if len(image.shape) == 3 and image.shape[2] == 3:\n",
    "    print(\"La imagen es RGB.\")\n",
    "else:\n",
    "    print(\"La imagen no es RGB.\")"
   ]
  },
  {
   "cell_type": "code",
   "execution_count": 4,
   "metadata": {},
   "outputs": [
    {
     "name": "stdout",
     "output_type": "stream",
     "text": [
      "Valor mínimo: 0.0, Valor máximo: 0.023529411764705882\n"
     ]
    }
   ],
   "source": [
    "# Normalizar la imagen\n",
    "image_normalized = image / 255.0\n",
    "\n",
    "# Verificar el rango de los valores normalizados\n",
    "print(f\"Valor mínimo: {image_normalized.min()}, Valor máximo: {image_normalized.max()}\")\n"
   ]
  },
  {
   "cell_type": "code",
   "execution_count": 1,
   "metadata": {},
   "outputs": [
    {
     "name": "stdout",
     "output_type": "stream",
     "text": [
      "Num GPUs Available:  0\n"
     ]
    }
   ],
   "source": [
    "import tensorflow as tf\n",
    "print(\"Num GPUs Available: \", len(tf.config.experimental.list_physical_devices('GPU')))"
   ]
  },
  {
   "cell_type": "code",
   "execution_count": null,
   "metadata": {},
   "outputs": [],
   "source": []
  }
 ],
 "metadata": {
  "kernelspec": {
   "display_name": "processing",
   "language": "python",
   "name": "python3"
  },
  "language_info": {
   "codemirror_mode": {
    "name": "ipython",
    "version": 3
   },
   "file_extension": ".py",
   "mimetype": "text/x-python",
   "name": "python",
   "nbconvert_exporter": "python",
   "pygments_lexer": "ipython3",
   "version": "3.9.21"
  }
 },
 "nbformat": 4,
 "nbformat_minor": 2
}
